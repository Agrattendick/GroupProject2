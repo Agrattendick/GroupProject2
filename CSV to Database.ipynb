{
 "cells": [
  {
   "cell_type": "code",
   "execution_count": 1,
   "metadata": {},
   "outputs": [],
   "source": [
    "# imports\n",
    "import pandas as pd\n",
    "import numpy as np"
   ]
  },
  {
   "cell_type": "code",
   "execution_count": 2,
   "metadata": {},
   "outputs": [],
   "source": [
    "# Import CSV Files\n",
    "ufo_csv = \"CSV files/us_ufo_csv.csv.\"\n",
    "murder_csv = \"CSV files/raw murder.csv\"\n",
    "location_csv = \"CSV files/raw locations.csv\"\n",
    "\n",
    "# create dataframes\n",
    "raw_ufo_df = pd.read_csv(ufo_csv)\n",
    "raw_murder_df = pd.read_csv(murder_csv)\n",
    "raw_location_df = pd.read_csv(location_csv)"
   ]
  },
  {
   "cell_type": "code",
   "execution_count": 3,
   "metadata": {},
   "outputs": [],
   "source": [
    "#raw_ufo_df.head()"
   ]
  },
  {
   "cell_type": "code",
   "execution_count": 4,
   "metadata": {},
   "outputs": [],
   "source": [
    "#raw_murder_df.head()"
   ]
  },
  {
   "cell_type": "code",
   "execution_count": 5,
   "metadata": {},
   "outputs": [],
   "source": [
    "#raw_location_df.head()"
   ]
  },
  {
   "cell_type": "code",
   "execution_count": 6,
   "metadata": {},
   "outputs": [],
   "source": [
    "# data cleaning for location dataframe\n",
    "clean_location_df = raw_location_df.reindex(columns = [\"state\", \"name\", \"bj_lat\", \"bj_long\"])\n",
    "clean_location_df = clean_location_df.rename(columns ={\"bj_lat\": \"latitude\", \"bj_long\": \"longitude\"})\n",
    "clean_location_df[\"state\"] = clean_location_df[\"state\"].str.lower()\n",
    "\n",
    "\n",
    "#save as new CSV file\n",
    "#clean_location_df.to_csv(\"CSV files/Clean Ben & Jerrys Locations.csv\")"
   ]
  },
  {
   "cell_type": "code",
   "execution_count": 7,
   "metadata": {},
   "outputs": [],
   "source": [
    "#clean_location_df.head()"
   ]
  },
  {
   "cell_type": "code",
   "execution_count": 8,
   "metadata": {},
   "outputs": [],
   "source": [
    "# data cleaning for murders dataframe\n",
    "clean_murder_df = raw_murder_df.reindex(columns = [\"state\", \"State_Name\", \"Murders\", \"Population\", \"Murder_Rate\"])\n",
    "clean_murder_df = clean_murder_df.rename(columns = {\"State_Name\": \"state_name\", \"Murders\": \"murders\", \"Population\": \"population\", \"Murder_Rate\": \"murder_rate\"})\n",
    "\n",
    "\n",
    "#save as new CSV file\n",
    "#clean_murder_df.to_csv(\"CSV files/clean murders.csv\")"
   ]
  },
  {
   "cell_type": "code",
   "execution_count": 9,
   "metadata": {},
   "outputs": [],
   "source": [
    "#clean_murder_df.head()"
   ]
  },
  {
   "cell_type": "code",
   "execution_count": 10,
   "metadata": {},
   "outputs": [
    {
     "data": {
      "text/html": [
       "<div>\n",
       "<style scoped>\n",
       "    .dataframe tbody tr th:only-of-type {\n",
       "        vertical-align: middle;\n",
       "    }\n",
       "\n",
       "    .dataframe tbody tr th {\n",
       "        vertical-align: top;\n",
       "    }\n",
       "\n",
       "    .dataframe thead th {\n",
       "        text-align: right;\n",
       "    }\n",
       "</style>\n",
       "<table border=\"1\" class=\"dataframe\">\n",
       "  <thead>\n",
       "    <tr style=\"text-align: right;\">\n",
       "      <th></th>\n",
       "      <th>Unnamed: 0</th>\n",
       "      <th>datetime</th>\n",
       "      <th>city</th>\n",
       "      <th>state</th>\n",
       "      <th>country</th>\n",
       "      <th>shape</th>\n",
       "      <th>duration (seconds)</th>\n",
       "      <th>latitude</th>\n",
       "      <th>longitude</th>\n",
       "    </tr>\n",
       "  </thead>\n",
       "  <tbody>\n",
       "    <tr>\n",
       "      <th>0</th>\n",
       "      <td>0</td>\n",
       "      <td>10/10/1949 20:30</td>\n",
       "      <td>san marcos</td>\n",
       "      <td>tx</td>\n",
       "      <td>us</td>\n",
       "      <td>cylinder</td>\n",
       "      <td>2700</td>\n",
       "      <td>29.883056</td>\n",
       "      <td>-97.941111</td>\n",
       "    </tr>\n",
       "    <tr>\n",
       "      <th>1</th>\n",
       "      <td>3</td>\n",
       "      <td>10/10/1956 21:00</td>\n",
       "      <td>edna</td>\n",
       "      <td>tx</td>\n",
       "      <td>us</td>\n",
       "      <td>circle</td>\n",
       "      <td>20</td>\n",
       "      <td>28.978333</td>\n",
       "      <td>-96.645833</td>\n",
       "    </tr>\n",
       "    <tr>\n",
       "      <th>2</th>\n",
       "      <td>4</td>\n",
       "      <td>10/10/1960 20:00</td>\n",
       "      <td>kaneohe</td>\n",
       "      <td>hi</td>\n",
       "      <td>us</td>\n",
       "      <td>light</td>\n",
       "      <td>900</td>\n",
       "      <td>21.418056</td>\n",
       "      <td>-157.803611</td>\n",
       "    </tr>\n",
       "    <tr>\n",
       "      <th>3</th>\n",
       "      <td>5</td>\n",
       "      <td>10/10/1961 19:00</td>\n",
       "      <td>bristol</td>\n",
       "      <td>tn</td>\n",
       "      <td>us</td>\n",
       "      <td>sphere</td>\n",
       "      <td>300</td>\n",
       "      <td>36.595000</td>\n",
       "      <td>-82.188889</td>\n",
       "    </tr>\n",
       "    <tr>\n",
       "      <th>4</th>\n",
       "      <td>7</td>\n",
       "      <td>10/10/1965 23:45</td>\n",
       "      <td>norwalk</td>\n",
       "      <td>ct</td>\n",
       "      <td>us</td>\n",
       "      <td>disk</td>\n",
       "      <td>1200</td>\n",
       "      <td>41.117500</td>\n",
       "      <td>-73.408333</td>\n",
       "    </tr>\n",
       "  </tbody>\n",
       "</table>\n",
       "</div>"
      ],
      "text/plain": [
       "   Unnamed: 0          datetime        city state country     shape  \\\n",
       "0           0  10/10/1949 20:30  san marcos    tx      us  cylinder   \n",
       "1           3  10/10/1956 21:00        edna    tx      us    circle   \n",
       "2           4  10/10/1960 20:00     kaneohe    hi      us     light   \n",
       "3           5  10/10/1961 19:00     bristol    tn      us    sphere   \n",
       "4           7  10/10/1965 23:45     norwalk    ct      us      disk   \n",
       "\n",
       "  duration (seconds)   latitude   longitude  \n",
       "0               2700  29.883056  -97.941111  \n",
       "1                 20  28.978333  -96.645833  \n",
       "2                900  21.418056 -157.803611  \n",
       "3                300  36.595000  -82.188889  \n",
       "4               1200  41.117500  -73.408333  "
      ]
     },
     "execution_count": 10,
     "metadata": {},
     "output_type": "execute_result"
    }
   ],
   "source": [
    "raw_ufo_df.head()"
   ]
  },
  {
   "cell_type": "code",
   "execution_count": 11,
   "metadata": {},
   "outputs": [],
   "source": [
    "#raw_ufo_df.columns = raw_ufo_df.columns.str.replace(' ', '/')\n",
    "#raw_ufo_df['datetime'] = raw_ufo_df.datetime()\n",
    "#raw_ufo_df['datetime'] = raw_ufo_df['datetime'].str.replace('[0-5]', ' ')\n",
    "#raw_ufo_df['datetime'] = raw_ufo_df['datetime'].pd.to_datetime()\n",
    "#raw_ufo_df['datetime'] = pd.to_datetime(raw_ufo_df.datetime)\n",
    "#raw_ufo_df['datetime1']= raw_ufo_df['datetime'].dt.strftime('%Y/%m/%d')\n",
    "#raw_ufo_df['datetime'] = raw_ufo_df['datetime'].pd.to_datetime()\n",
    "#raw_ufo_df['date'] = raw_ufo_df['datetime'].dt.normalize()\n",
    "\n",
    "raw_ufo_df['datetime'] = raw_ufo_df['datetime']+':00'\n",
    "raw_ufo_df['datetime'] = pd.to_datetime(raw_ufo_df.datetime ,infer_datetime_format=True, errors = \"coerce\")\n",
    "#raw_ufo_df.datetime.values.astype('M8[D]')\n",
    "raw_ufo_df.to_csv(\"CSV files/UFO.csv\")"
   ]
  },
  {
   "cell_type": "code",
   "execution_count": 12,
   "metadata": {},
   "outputs": [
    {
     "data": {
      "text/plain": [
       "Unnamed: 0                     int64\n",
       "datetime              datetime64[ns]\n",
       "city                          object\n",
       "state                         object\n",
       "country                       object\n",
       "shape                         object\n",
       "duration (seconds)            object\n",
       "latitude                     float64\n",
       "longitude                    float64\n",
       "dtype: object"
      ]
     },
     "execution_count": 12,
     "metadata": {},
     "output_type": "execute_result"
    }
   ],
   "source": [
    "raw_ufo_df.dtypes"
   ]
  },
  {
   "cell_type": "code",
   "execution_count": 13,
   "metadata": {},
   "outputs": [
    {
     "data": {
      "text/html": [
       "<div>\n",
       "<style scoped>\n",
       "    .dataframe tbody tr th:only-of-type {\n",
       "        vertical-align: middle;\n",
       "    }\n",
       "\n",
       "    .dataframe tbody tr th {\n",
       "        vertical-align: top;\n",
       "    }\n",
       "\n",
       "    .dataframe thead th {\n",
       "        text-align: right;\n",
       "    }\n",
       "</style>\n",
       "<table border=\"1\" class=\"dataframe\">\n",
       "  <thead>\n",
       "    <tr style=\"text-align: right;\">\n",
       "      <th></th>\n",
       "      <th>Unnamed: 0</th>\n",
       "      <th>datetime</th>\n",
       "      <th>city</th>\n",
       "      <th>state</th>\n",
       "      <th>country</th>\n",
       "      <th>shape</th>\n",
       "      <th>duration (seconds)</th>\n",
       "      <th>latitude</th>\n",
       "      <th>longitude</th>\n",
       "    </tr>\n",
       "  </thead>\n",
       "  <tbody>\n",
       "    <tr>\n",
       "      <th>0</th>\n",
       "      <td>0</td>\n",
       "      <td>1949-10-10 20:30:00</td>\n",
       "      <td>san marcos</td>\n",
       "      <td>tx</td>\n",
       "      <td>us</td>\n",
       "      <td>cylinder</td>\n",
       "      <td>2700</td>\n",
       "      <td>29.883056</td>\n",
       "      <td>-97.941111</td>\n",
       "    </tr>\n",
       "    <tr>\n",
       "      <th>1</th>\n",
       "      <td>3</td>\n",
       "      <td>1956-10-10 21:00:00</td>\n",
       "      <td>edna</td>\n",
       "      <td>tx</td>\n",
       "      <td>us</td>\n",
       "      <td>circle</td>\n",
       "      <td>20</td>\n",
       "      <td>28.978333</td>\n",
       "      <td>-96.645833</td>\n",
       "    </tr>\n",
       "    <tr>\n",
       "      <th>2</th>\n",
       "      <td>4</td>\n",
       "      <td>1960-10-10 20:00:00</td>\n",
       "      <td>kaneohe</td>\n",
       "      <td>hi</td>\n",
       "      <td>us</td>\n",
       "      <td>light</td>\n",
       "      <td>900</td>\n",
       "      <td>21.418056</td>\n",
       "      <td>-157.803611</td>\n",
       "    </tr>\n",
       "    <tr>\n",
       "      <th>3</th>\n",
       "      <td>5</td>\n",
       "      <td>1961-10-10 19:00:00</td>\n",
       "      <td>bristol</td>\n",
       "      <td>tn</td>\n",
       "      <td>us</td>\n",
       "      <td>sphere</td>\n",
       "      <td>300</td>\n",
       "      <td>36.595000</td>\n",
       "      <td>-82.188889</td>\n",
       "    </tr>\n",
       "    <tr>\n",
       "      <th>4</th>\n",
       "      <td>7</td>\n",
       "      <td>1965-10-10 23:45:00</td>\n",
       "      <td>norwalk</td>\n",
       "      <td>ct</td>\n",
       "      <td>us</td>\n",
       "      <td>disk</td>\n",
       "      <td>1200</td>\n",
       "      <td>41.117500</td>\n",
       "      <td>-73.408333</td>\n",
       "    </tr>\n",
       "  </tbody>\n",
       "</table>\n",
       "</div>"
      ],
      "text/plain": [
       "   Unnamed: 0            datetime        city state country     shape  \\\n",
       "0           0 1949-10-10 20:30:00  san marcos    tx      us  cylinder   \n",
       "1           3 1956-10-10 21:00:00        edna    tx      us    circle   \n",
       "2           4 1960-10-10 20:00:00     kaneohe    hi      us     light   \n",
       "3           5 1961-10-10 19:00:00     bristol    tn      us    sphere   \n",
       "4           7 1965-10-10 23:45:00     norwalk    ct      us      disk   \n",
       "\n",
       "  duration (seconds)   latitude   longitude  \n",
       "0               2700  29.883056  -97.941111  \n",
       "1                 20  28.978333  -96.645833  \n",
       "2                900  21.418056 -157.803611  \n",
       "3                300  36.595000  -82.188889  \n",
       "4               1200  41.117500  -73.408333  "
      ]
     },
     "execution_count": 13,
     "metadata": {},
     "output_type": "execute_result"
    }
   ],
   "source": [
    "raw_ufo_df.head()"
   ]
  },
  {
   "cell_type": "code",
   "execution_count": null,
   "metadata": {},
   "outputs": [],
   "source": []
  }
 ],
 "metadata": {
  "kernelspec": {
   "display_name": "Python 3",
   "language": "python",
   "name": "python3"
  },
  "language_info": {
   "codemirror_mode": {
    "name": "ipython",
    "version": 3
   },
   "file_extension": ".py",
   "mimetype": "text/x-python",
   "name": "python",
   "nbconvert_exporter": "python",
   "pygments_lexer": "ipython3",
   "version": "3.6.5"
  }
 },
 "nbformat": 4,
 "nbformat_minor": 2
}
