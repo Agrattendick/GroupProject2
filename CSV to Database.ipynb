{
 "cells": [
  {
   "cell_type": "code",
   "execution_count": 1,
   "metadata": {},
   "outputs": [],
   "source": [
    "# imports\n",
    "import pandas as pd"
   ]
  },
  {
   "cell_type": "code",
   "execution_count": 2,
   "metadata": {},
   "outputs": [],
   "source": [
    "# Import CSV Files\n",
    "ufo_csv = \"CSV files/us_ufo_csv.csv.\"\n",
    "murder_csv = \"CSV files/raw murder.csv\"\n",
    "location_csv = \"CSV files/raw locations.csv\"\n",
    "\n",
    "# create dataframes\n",
    "raw_ufo_df = pd.read_csv(ufo_csv)\n",
    "raw_murder_df = pd.read_csv(murder_csv)\n",
    "raw_location_df = pd.read_csv(location_csv)"
   ]
  },
  {
   "cell_type": "code",
   "execution_count": 3,
   "metadata": {},
   "outputs": [],
   "source": [
    "#raw_ufo_df.head()"
   ]
  },
  {
   "cell_type": "code",
   "execution_count": 4,
   "metadata": {},
   "outputs": [
    {
     "data": {
      "text/html": [
       "<div>\n",
       "<style scoped>\n",
       "    .dataframe tbody tr th:only-of-type {\n",
       "        vertical-align: middle;\n",
       "    }\n",
       "\n",
       "    .dataframe tbody tr th {\n",
       "        vertical-align: top;\n",
       "    }\n",
       "\n",
       "    .dataframe thead th {\n",
       "        text-align: right;\n",
       "    }\n",
       "</style>\n",
       "<table border=\"1\" class=\"dataframe\">\n",
       "  <thead>\n",
       "    <tr style=\"text-align: right;\">\n",
       "      <th></th>\n",
       "      <th>State_Name</th>\n",
       "      <th>Murders</th>\n",
       "      <th>state</th>\n",
       "      <th>Population</th>\n",
       "      <th>Murder_Rate</th>\n",
       "    </tr>\n",
       "  </thead>\n",
       "  <tbody>\n",
       "    <tr>\n",
       "      <th>0</th>\n",
       "      <td>Alaska</td>\n",
       "      <td>62</td>\n",
       "      <td>ak</td>\n",
       "      <td>739795</td>\n",
       "      <td>8.380700</td>\n",
       "    </tr>\n",
       "    <tr>\n",
       "      <th>1</th>\n",
       "      <td>Alabama</td>\n",
       "      <td>404</td>\n",
       "      <td>al</td>\n",
       "      <td>4874747</td>\n",
       "      <td>8.287610</td>\n",
       "    </tr>\n",
       "    <tr>\n",
       "      <th>2</th>\n",
       "      <td>Arkansas</td>\n",
       "      <td>258</td>\n",
       "      <td>ar</td>\n",
       "      <td>3004279</td>\n",
       "      <td>8.587751</td>\n",
       "    </tr>\n",
       "    <tr>\n",
       "      <th>3</th>\n",
       "      <td>Arizona</td>\n",
       "      <td>416</td>\n",
       "      <td>az</td>\n",
       "      <td>7016270</td>\n",
       "      <td>5.929076</td>\n",
       "    </tr>\n",
       "    <tr>\n",
       "      <th>4</th>\n",
       "      <td>California</td>\n",
       "      <td>1830</td>\n",
       "      <td>ca</td>\n",
       "      <td>39536653</td>\n",
       "      <td>4.628616</td>\n",
       "    </tr>\n",
       "  </tbody>\n",
       "</table>\n",
       "</div>"
      ],
      "text/plain": [
       "   State_Name  Murders state  Population  Murder_Rate\n",
       "0      Alaska       62    ak      739795     8.380700\n",
       "1     Alabama      404    al     4874747     8.287610\n",
       "2    Arkansas      258    ar     3004279     8.587751\n",
       "3     Arizona      416    az     7016270     5.929076\n",
       "4  California     1830    ca    39536653     4.628616"
      ]
     },
     "execution_count": 4,
     "metadata": {},
     "output_type": "execute_result"
    }
   ],
   "source": [
    "raw_murder_df.head()"
   ]
  },
  {
   "cell_type": "code",
   "execution_count": 5,
   "metadata": {},
   "outputs": [],
   "source": [
    "#raw_location_df.head()"
   ]
  },
  {
   "cell_type": "code",
   "execution_count": 6,
   "metadata": {},
   "outputs": [],
   "source": [
    "# data cleaning for location dataframe\n",
    "clean_location_df = raw_location_df.reindex(columns = [\"state\", \"name\", \"bj_lat\", \"bj_long\"])\n",
    "clean_location_df = clean_location_df.rename(columns ={\"bj_lat\": \"latitude\", \"bj_long\": \"longitude\"})\n",
    "clean_location_df[\"state\"] = clean_location_df[\"state\"].str.lower()\n",
    "\n",
    "\n",
    "#save as new CSV file\n",
    "#clean_location_df.to_csv(\"CSV files/Clean Ben & Jerrys Locations.csv\")"
   ]
  },
  {
   "cell_type": "code",
   "execution_count": 7,
   "metadata": {},
   "outputs": [],
   "source": [
    "#clean_location_df.head()"
   ]
  },
  {
   "cell_type": "code",
   "execution_count": 16,
   "metadata": {},
   "outputs": [],
   "source": [
    "# data cleaning for murders dataframe\n",
    "clean_murder_df = raw_murder_df.reindex(columns = [\"state\", \"State_Name\", \"Murders\", \"Population\", \"Murder_Rate\"])\n",
    "clean_murder_df = clean_murder_df.rename(columns = {\"State_Name\": \"state_name\", \"Murders\": \"murders\", \"Population\": \"population\", \"Murder_Rate\": \"murder_rate\"})\n",
    "\n",
    "\n",
    "#save as new CSV file\n",
    "clean_murder_df.to_csv(\"CSV files/clean murders.csv\")"
   ]
  },
  {
   "cell_type": "code",
   "execution_count": 17,
   "metadata": {},
   "outputs": [
    {
     "data": {
      "text/html": [
       "<div>\n",
       "<style scoped>\n",
       "    .dataframe tbody tr th:only-of-type {\n",
       "        vertical-align: middle;\n",
       "    }\n",
       "\n",
       "    .dataframe tbody tr th {\n",
       "        vertical-align: top;\n",
       "    }\n",
       "\n",
       "    .dataframe thead th {\n",
       "        text-align: right;\n",
       "    }\n",
       "</style>\n",
       "<table border=\"1\" class=\"dataframe\">\n",
       "  <thead>\n",
       "    <tr style=\"text-align: right;\">\n",
       "      <th></th>\n",
       "      <th>state</th>\n",
       "      <th>state_name</th>\n",
       "      <th>murders</th>\n",
       "      <th>population</th>\n",
       "      <th>murder_rate</th>\n",
       "    </tr>\n",
       "  </thead>\n",
       "  <tbody>\n",
       "    <tr>\n",
       "      <th>0</th>\n",
       "      <td>ak</td>\n",
       "      <td>Alaska</td>\n",
       "      <td>62</td>\n",
       "      <td>739795</td>\n",
       "      <td>8.380700</td>\n",
       "    </tr>\n",
       "    <tr>\n",
       "      <th>1</th>\n",
       "      <td>al</td>\n",
       "      <td>Alabama</td>\n",
       "      <td>404</td>\n",
       "      <td>4874747</td>\n",
       "      <td>8.287610</td>\n",
       "    </tr>\n",
       "    <tr>\n",
       "      <th>2</th>\n",
       "      <td>ar</td>\n",
       "      <td>Arkansas</td>\n",
       "      <td>258</td>\n",
       "      <td>3004279</td>\n",
       "      <td>8.587751</td>\n",
       "    </tr>\n",
       "    <tr>\n",
       "      <th>3</th>\n",
       "      <td>az</td>\n",
       "      <td>Arizona</td>\n",
       "      <td>416</td>\n",
       "      <td>7016270</td>\n",
       "      <td>5.929076</td>\n",
       "    </tr>\n",
       "    <tr>\n",
       "      <th>4</th>\n",
       "      <td>ca</td>\n",
       "      <td>California</td>\n",
       "      <td>1830</td>\n",
       "      <td>39536653</td>\n",
       "      <td>4.628616</td>\n",
       "    </tr>\n",
       "  </tbody>\n",
       "</table>\n",
       "</div>"
      ],
      "text/plain": [
       "  state  state_name  murders  population  murder_rate\n",
       "0    ak      Alaska       62      739795     8.380700\n",
       "1    al     Alabama      404     4874747     8.287610\n",
       "2    ar    Arkansas      258     3004279     8.587751\n",
       "3    az     Arizona      416     7016270     5.929076\n",
       "4    ca  California     1830    39536653     4.628616"
      ]
     },
     "execution_count": 17,
     "metadata": {},
     "output_type": "execute_result"
    }
   ],
   "source": [
    "clean_murder_df.head()"
   ]
  },
  {
   "cell_type": "code",
   "execution_count": null,
   "metadata": {},
   "outputs": [],
   "source": []
  }
 ],
 "metadata": {
  "kernelspec": {
   "display_name": "Python 3",
   "language": "python",
   "name": "python3"
  },
  "language_info": {
   "codemirror_mode": {
    "name": "ipython",
    "version": 3
   },
   "file_extension": ".py",
   "mimetype": "text/x-python",
   "name": "python",
   "nbconvert_exporter": "python",
   "pygments_lexer": "ipython3",
   "version": "3.6.5"
  }
 },
 "nbformat": 4,
 "nbformat_minor": 2
}
